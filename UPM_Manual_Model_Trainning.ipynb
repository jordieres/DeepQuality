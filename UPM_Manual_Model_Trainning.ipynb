{
 "cells": [
  {
   "cell_type": "markdown",
   "id": "e3e1a5cc-7ece-4714-b48f-1b82fd08c48a",
   "metadata": {},
   "source": [
    "# Coil Data Preparation"
   ]
  },
  {
   "cell_type": "code",
   "execution_count": 27,
   "id": "a18df1f6-37ad-44ae-8313-10f90e6e2d24",
   "metadata": {},
   "outputs": [],
   "source": [
    "# Starting point:\n",
    "#   data_norm.pkl :  \n",
    "#       Row1 .- struct scale ZnMin and ZnMax\n",
    "#       Row2 .- dosD  DB table\n",
    "#       Row3 .- coils DB table\n",
    "#       Row4 .- nclmaps (struct of coils with specific labels nzn and \n"
   ]
  },
  {
   "cell_type": "code",
   "execution_count": 28,
   "id": "2dea4791-4b1e-48fa-9e6d-c76a4e43df23",
   "metadata": {},
   "outputs": [
    {
     "name": "stdout",
     "output_type": "stream",
     "text": [
      "[PhysicalDevice(name='/physical_device:GPU:0', device_type='GPU')]\n"
     ]
    }
   ],
   "source": [
    "import sys, os, datetime, pickle, time\n",
    "import string, pdb, tqdm\n",
    "import random, cv2, keras, os.path\n",
    "import pandas as pd\n",
    "import numpy as np\n",
    "import tensorflow as tf\n",
    "#\n",
    "from tensorflow.keras import models\n",
    "from tensorflow.keras import layers\n",
    "from tensorflow.keras import optimizers\n",
    "from timeit import default_timer as timer\n",
    "from datetime import datetime, timedelta, date\n",
    "from PIL import Image\n",
    "from matplotlib import pyplot as plt\n",
    "from IPython.display import Image\n",
    "%matplotlib inline\n",
    "from tensorflow.keras.callbacks import ModelCheckpoint, EarlyStopping\n",
    "#\n",
    "tf.autograph.set_verbosity(0)\n",
    "physical_devices = tf.config.experimental.list_physical_devices('GPU')\n",
    "print(physical_devices)\n",
    "config = tf.config.experimental.set_memory_growth(physical_devices[0], True)\n",
    "os.environ['TF_CPP_MIN_LOG_LEVEL'] = '3'\n",
    "tf.get_logger().setLevel('ERROR')"
   ]
  },
  {
   "cell_type": "code",
   "execution_count": 29,
   "id": "9400b793-9e42-419a-a2fd-695832b87bab",
   "metadata": {},
   "outputs": [],
   "source": [
    "# Loading datasets\n",
    "with open('data_norm.pkl', 'rb') as handle:\n",
    "    GlblFrm = pickle.load(handle)\n",
    "    dosD    = pickle.load(handle)\n",
    "    coils   = pickle.load(handle)\n",
    "    nclmaps = pickle.load(handle)\n",
    "#"
   ]
  },
  {
   "cell_type": "code",
   "execution_count": 30,
   "id": "24897f83-02fc-4ab3-b484-83044e6b7ae5",
   "metadata": {},
   "outputs": [
    {
     "name": "stdout",
     "output_type": "stream",
     "text": [
      "GlblFrm: {'NormMn': -279.38157, 'NormMx': 507.54791, 'MaxTiles': 264}\n",
      "nclmaps keys: dict_keys([1234, 1243, 'props'])\n",
      "nclmaps props: {'ntiles': 64, 'Len': 638.0, 'Wid': 1108.0, 'Label': 1, 'ZnMn': 138, 'ZnMx': 158, 'nsns': 9, 'callib_1234': {0: [], 1: [], 2: [], 3: [], 4: [], 5: [], 6: [], 7: [], 8: []}, 'nchks': {0: 1, 1: 2, 2: 5, 3: 5, 4: 7, 5: 3, 6: 0, 7: 0, 8: 0}, 'nfltls': {0: 4, 1: 4, 2: 44, 3: 42, 4: 30, 5: 4, 6: 0, 7: 0, 8: 0}, 'callib_1243': {0: [], 1: [], 2: [], 3: [], 4: [], 5: [], 6: [], 7: [], 8: []}, '1234_mx': 37.35920999999999, '1234_mn': -75.1079, '1243_mx': 54.614810000000006, '1243_mn': -10.365899999999996, 'MxVal': 54.614810000000006, 'MnVal': -75.1079}\n"
     ]
    }
   ],
   "source": [
    "print('GlblFrm:',GlblFrm)\n",
    "print('nclmaps keys:',nclmaps[list(nclmaps.keys())[0]].keys())\n",
    "print('nclmaps props:',nclmaps[list(nclmaps.keys())[0]]['props'])"
   ]
  },
  {
   "cell_type": "code",
   "execution_count": 31,
   "id": "7757e297-fb57-4c17-ab9e-91300c30026a",
   "metadata": {},
   "outputs": [
    {
     "data": {
      "text/plain": [
       "Label\n",
       "1    547\n",
       "0    261\n",
       "3    212\n",
       "2    140\n",
       "Name: count, dtype: int64"
      ]
     },
     "execution_count": 31,
     "metadata": {},
     "output_type": "execute_result"
    }
   ],
   "source": [
    "coils['Label'].value_counts()"
   ]
  },
  {
   "cell_type": "markdown",
   "id": "58e1ec60-def2-429d-b0d8-b73fe9413e1f",
   "metadata": {},
   "source": [
    "### Building Sets"
   ]
  },
  {
   "cell_type": "code",
   "execution_count": 32,
   "id": "39aee1b5-9db4-462a-9e19-22c2972c9386",
   "metadata": {},
   "outputs": [],
   "source": [
    "#  Selecting coils OK and NOK\n",
    "lsids1 = coils.loc[coils['Label']==1,'SID'].tolist()\n",
    "lsids2 = coils.loc[coils['Label']==2,'SID'].tolist()\n",
    "#\n",
    "# Select and extract 30 coil's sids for independent assessemnt\n",
    "ass1 = random.sample(lsids1, 30)\n",
    "ass2 = random.sample(lsids2, 30)\n",
    "res1 = np.array(list(set(lsids1) - set(ass1)))\n",
    "res2 = np.array(list(set(lsids2) - set(ass2)))\n",
    "#\n",
    "# The remaining are organized for building the model\n",
    "random.shuffle(res1)\n",
    "random.shuffle(res2)\n",
    "train1, validate1, test1 = np.split(res1,[int(.7*len(res1)), int(.9*len(res1))])\n",
    "train2, validate2, test2 = np.split(res2,[int(.7*len(res2)), int(.9*len(res2))])\n",
    "#\n",
    "# Building the full sets\n",
    "train = train1.tolist() + train2.tolist()\n",
    "valid = validate1.tolist() + validate2.tolist()\n",
    "test  = test1.tolist()  + test2.tolist()\n",
    "ass   = ass1   + ass2\n",
    "#"
   ]
  },
  {
   "cell_type": "code",
   "execution_count": 33,
   "id": "8b9424dc-80d4-4ed9-9463-38a39a14f80f",
   "metadata": {},
   "outputs": [],
   "source": [
    "def featureMap(id, nlcmaps):\n",
    "    arr1 = nclmaps[id][1234]['nzne'].to_numpy()\n",
    "    arr2 = nclmaps[id][1243]['nzne'].to_numpy()\n",
    "    arr  = np.concatenate((arr1, arr2), axis=1)\n",
    "    return(arr)\n",
    "#\n",
    "def prep_dataset(setd,nlcmaps):\n",
    "    setd_f = []\n",
    "    setd_l = []\n",
    "    for i in setd:\n",
    "        arrimg = featureMap(i, nclmaps)\n",
    "        lbl = coils.loc[coils['SID']==i,'Label'].values[0]\n",
    "        setd_f.append(arrimg)\n",
    "        if lbl == 1:\n",
    "            setd_l.append([1.,0.])\n",
    "        if lbl == 2:\n",
    "            setd_l.append([0.,1.])\n",
    "    setd_f = np.array(setd_f)\n",
    "    setd_l = np.array(setd_l)\n",
    "    return([setd_f,setd_l])\n",
    "#\n",
    "def factory_rep(arr,step=0):\n",
    "    # arr image havind 264 rows and 18 (9 face A+9 face B) columns of normalized data \n",
    "    # mirror per face over x axis\n",
    "    # channels 0-3 => 5-8 and 5-8 => 0-3\n",
    "    permut1 = list(range(8,4,-1))+[4] + list(range(3,-1,-1))+ list(range(17,13,-1))+[13]+list(range(12,8,-1))\n",
    "    idx = np.empty_like(permut1)\n",
    "    idx[permut1] = np.arange(len(permut1))\n",
    "    arr1 = arr[:,idx]\n",
    "    permut2 = list(range(263,131,-1))+ list(range(131,-1,-1))\n",
    "    idx = np.empty_like(permut2)\n",
    "    idx[permut2] = np.arange(len(permut2))    \n",
    "    arr2 = arr[idx,:]\n",
    "    arr3 = arr1[idx,:]\n",
    "    res  = [arr, arr1, arr2, arr3]\n",
    "    if step > 0:\n",
    "        newa = arr\n",
    "        end = arr.shape[0]-step\n",
    "        for i in range(arr.shape[0] // step):\n",
    "            permut = list(range(arr.shape[0]-step,arr.shape[0]))+list(range(0,end))\n",
    "            idx = np.empty_like(permut)\n",
    "            idx[permut] = np.arange(len(permut))\n",
    "            newb= newa[idx,:]\n",
    "            res.append(newb)\n",
    "            newa= newb\n",
    "    res = np.array(res)\n",
    "    return(res)\n",
    "#\n",
    "#\n",
    "def prep_dataset_aug(setd,nlcmaps,tlab=-1):\n",
    "    setd_f = []\n",
    "    setd_l = []\n",
    "    for i in setd:\n",
    "        arrimg = featureMap(i, nclmaps)\n",
    "        lbl = coils.loc[coils['SID']==i,'Label'].values[0]\n",
    "        if lbl == tlab: # if lower class => higher augmentation\n",
    "            res = factory_rep(arrimg,step=8)\n",
    "        else:\n",
    "            res = factory_rep(arrimg)\n",
    "        for j in range(res.shape[0]):\n",
    "            setd_f.append(res[j,:,:])\n",
    "            if lbl == 1:\n",
    "                setd_l.append([1.,0.])\n",
    "            if lbl == 2:\n",
    "                setd_l.append([0.,1.])\n",
    "    setd_f = np.array(setd_f)\n",
    "    setd_l = np.array(setd_l)\n",
    "    return([setd_f,setd_l])"
   ]
  },
  {
   "cell_type": "code",
   "execution_count": 34,
   "id": "14b94b90-1bb1-4923-9ae5-bcca2e157cc3",
   "metadata": {},
   "outputs": [],
   "source": [
    "# i=train[0]\n",
    "# tmpimg = featureMap(i, nclmaps)\n",
    "# tmpimg.shape"
   ]
  },
  {
   "cell_type": "code",
   "execution_count": 35,
   "id": "64affff8-d837-4739-828a-b62b3d3158f5",
   "metadata": {},
   "outputs": [],
   "source": [
    "goal = './ZN_1D_imgs/orig/'\n",
    "# for i in train + valid + test:\n",
    "train_f, train_l = prep_dataset_aug(train,nclmaps,2)\n",
    "np.savez(goal+'train.npz', features=train_f, labels=train_l)\n",
    "#\n",
    "valid_f, valid_l = prep_dataset(valid,nclmaps)\n",
    "np.savez(goal+'validation.npz', features=valid_f, labels=valid_l)\n",
    "#\n",
    "test_f, test_l = prep_dataset(test,nclmaps)\n",
    "np.savez(goal+'test.npz', features=test_f, labels=test_l)\n",
    "#\n",
    "ass_f, ass_l = prep_dataset(ass,nclmaps)\n",
    "np.savez(goal+'assess.npz', features=ass_f, labels=ass_l)\n",
    "#"
   ]
  },
  {
   "cell_type": "code",
   "execution_count": 36,
   "id": "cd1b67e1-3a10-426a-8c8b-bac30e6340f8",
   "metadata": {},
   "outputs": [
    {
     "name": "stdout",
     "output_type": "stream",
     "text": [
      "(4293, 264, 18)\n",
      "(4293, 2)\n"
     ]
    }
   ],
   "source": [
    "#\n",
    "npzfile = np.load(goal+'train.npz')\n",
    "print(npzfile['features'].shape)\n",
    "print(npzfile['labels'].shape)"
   ]
  },
  {
   "cell_type": "code",
   "execution_count": 37,
   "id": "27169308-164c-42d8-8ac9-548531fd81e8",
   "metadata": {},
   "outputs": [
    {
     "name": "stdout",
     "output_type": "stream",
     "text": [
      "(array([0., 1.]), array([2849, 1444]))\n",
      "(array([0., 1.]), array([1444, 2849]))\n"
     ]
    }
   ],
   "source": [
    "print(np.unique(npzfile['labels'][:,0],return_counts=True))\n",
    "print(np.unique(npzfile['labels'][:,1],return_counts=True))"
   ]
  },
  {
   "cell_type": "markdown",
   "id": "8159180b-f3f7-4ad4-a09b-ba758e5508b5",
   "metadata": {},
   "source": [
    "## Definition of the DQ_Model"
   ]
  },
  {
   "cell_type": "code",
   "execution_count": 38,
   "id": "73dbfa0d-8678-4389-ab03-80685062327f",
   "metadata": {},
   "outputs": [],
   "source": [
    "#\n",
    "# Definition of the DQCnnNet\n",
    "#\n",
    "#\n",
    "class DQCnnNet(tf.keras.Model):\n",
    "    \"\"\"\n",
    "    Original DQCnnNet\n",
    "    \"\"\"\n",
    "    def __init__(self, inp_shape = (264,18)):\n",
    "        super(DQCnnNet, self).__init__()\n",
    "        self.inp_shape = inp_shape\n",
    "\n",
    "        self.kernel_size_0 = 20\n",
    "        self.kernel_size_1 = 6\n",
    "        self.drop_rate = 0.4\n",
    "\n",
    "        self.conv1 = tf.keras.layers.Conv1D(filters=32,\n",
    "                                            kernel_size=self.kernel_size_0,\n",
    "                                            activation='relu',\n",
    "                                            padding= \"same\",\n",
    "                                            input_shape=self.inp_shape)\n",
    "        self.batch_n_1 = tf.keras.layers.BatchNormalization()\n",
    "        self.conv2 = tf.keras.layers.Conv1D(filters=32,\n",
    "                                            kernel_size=self.kernel_size_0,\n",
    "                                            activation='relu',\n",
    "                                            padding= \"valid\")\n",
    "        self.batch_n_2 = tf.keras.layers.BatchNormalization()\n",
    "        self.spatial_drop_1 = tf.keras.layers.SpatialDropout1D(self.drop_rate)\n",
    "        self.conv3 = tf.keras.layers.Conv1D(filters=32,\n",
    "                                            kernel_size=self.kernel_size_1,\n",
    "                                            activation='relu',\n",
    "                                            padding= \"valid\")\n",
    "        self.avg_pool1 = tf.keras.layers.AvgPool1D(pool_size=2)\n",
    "        self.conv4 = tf.keras.layers.Conv1D(filters=32,\n",
    "                                            kernel_size=self.kernel_size_1,\n",
    "                                            activation='relu',\n",
    "                                            padding= \"valid\")\n",
    "        self.conv5 = tf.keras.layers.Conv1D(filters=32,\n",
    "                                            kernel_size=self.kernel_size_1,\n",
    "                                            activation='relu',\n",
    "                                            padding= \"valid\")\n",
    "        self.spatial_drop_2 = tf.keras.layers.SpatialDropout1D(self.drop_rate)\n",
    "        self.flat = tf.keras.layers.Flatten()\n",
    "        self.dense1 = tf.keras.layers.Dense(296, activation='relu')\n",
    "        self.dropout1 = tf.keras.layers.Dropout(self.drop_rate)\n",
    "        self.dense2 = tf.keras.layers.Dense(148, activation='relu')\n",
    "        self.dropout2 = tf.keras.layers.Dropout(self.drop_rate)\n",
    "        self.dense3 = tf.keras.layers.Dense(74, activation='relu')\n",
    "        self.dropout3 = tf.keras.layers.Dropout(self.drop_rate)\n",
    "        self.out = tf.keras.layers.Dense(2, activation='softmax')\n",
    "\n",
    "    def call(self, input_tensor):\n",
    "        conv1 = self.conv1(input_tensor)\n",
    "        batch_n_1 = self.batch_n_1(conv1)\n",
    "        conv2 = self.conv2(batch_n_1)\n",
    "        batch_n_2 = self.batch_n_2(conv2)\n",
    "        spatial_drop_1 = self.spatial_drop_1(batch_n_2)\n",
    "        conv3 = self.conv3(spatial_drop_1)\n",
    "        avg_pool1 = self.avg_pool1(conv3)\n",
    "        conv4 = self.conv4(avg_pool1)\n",
    "        conv5 = self.conv5(conv4)\n",
    "        spatial_drop_2 = self.spatial_drop_2(conv5)\n",
    "        flat = self.flat(spatial_drop_2)\n",
    "        dense1 = self.dense1(flat)\n",
    "        dropout1 = self.dropout1(dense1)\n",
    "        dense2 = self.dense2(dropout1)\n",
    "        dropout2 = self.dropout2(dense2)\n",
    "        #\n",
    "        dense3   = self.dense3(dropout2)\n",
    "        dropout3 = self.dropout3(dense3)\n",
    "        return self.out(dropout3)\n",
    "#"
   ]
  },
  {
   "cell_type": "markdown",
   "id": "b014004d-12a1-493c-8c05-b56a7d604b6f",
   "metadata": {},
   "source": [
    "### Training the model"
   ]
  },
  {
   "cell_type": "code",
   "execution_count": 53,
   "id": "2d83ea8d-e76b-4273-a645-6368838769d9",
   "metadata": {},
   "outputs": [
    {
     "name": "stdout",
     "output_type": "stream",
     "text": [
      "Epoch 1/100\n",
      "86/86 [==============================] - 4s 8ms/step - loss: 0.5962 - accuracy: 0.6853 - val_loss: 0.7077 - val_accuracy: 0.1746\n",
      "Epoch 2/100\n",
      "86/86 [==============================] - 0s 6ms/step - loss: 0.5145 - accuracy: 0.7615 - val_loss: 0.7842 - val_accuracy: 0.1746\n",
      "Epoch 3/100\n",
      "86/86 [==============================] - 0s 6ms/step - loss: 0.4734 - accuracy: 0.7908 - val_loss: 0.8402 - val_accuracy: 0.1746\n",
      "Epoch 4/100\n",
      "86/86 [==============================] - 0s 6ms/step - loss: 0.4411 - accuracy: 0.8197 - val_loss: 0.8161 - val_accuracy: 0.1984\n",
      "Epoch 5/100\n",
      "86/86 [==============================] - 0s 6ms/step - loss: 0.4343 - accuracy: 0.8255 - val_loss: 0.7077 - val_accuracy: 0.3095\n",
      "Epoch 6/100\n",
      "86/86 [==============================] - 0s 6ms/step - loss: 0.3864 - accuracy: 0.8442 - val_loss: 0.4797 - val_accuracy: 0.7222\n",
      "Epoch 7/100\n",
      "86/86 [==============================] - 0s 6ms/step - loss: 0.3780 - accuracy: 0.8428 - val_loss: 0.4220 - val_accuracy: 0.7619\n",
      "Epoch 8/100\n",
      "86/86 [==============================] - 0s 6ms/step - loss: 0.3541 - accuracy: 0.8593 - val_loss: 0.4145 - val_accuracy: 0.7460\n",
      "Epoch 9/100\n",
      "86/86 [==============================] - 0s 6ms/step - loss: 0.3317 - accuracy: 0.8684 - val_loss: 0.4286 - val_accuracy: 0.7222\n",
      "Epoch 10/100\n",
      "86/86 [==============================] - 0s 6ms/step - loss: 0.3314 - accuracy: 0.8724 - val_loss: 0.3933 - val_accuracy: 0.8016\n",
      "Epoch 11/100\n",
      "86/86 [==============================] - 0s 6ms/step - loss: 0.3363 - accuracy: 0.8721 - val_loss: 0.3729 - val_accuracy: 0.8016\n",
      "Epoch 12/100\n",
      "86/86 [==============================] - 0s 6ms/step - loss: 0.3066 - accuracy: 0.8775 - val_loss: 0.3717 - val_accuracy: 0.8016\n",
      "Epoch 13/100\n",
      "86/86 [==============================] - 0s 6ms/step - loss: 0.2928 - accuracy: 0.8791 - val_loss: 0.3612 - val_accuracy: 0.7937\n",
      "Epoch 14/100\n",
      "86/86 [==============================] - 0s 6ms/step - loss: 0.2693 - accuracy: 0.8921 - val_loss: 0.3770 - val_accuracy: 0.8175\n",
      "Epoch 15/100\n",
      "86/86 [==============================] - 0s 6ms/step - loss: 0.2610 - accuracy: 0.8975 - val_loss: 0.4050 - val_accuracy: 0.8175\n",
      "Epoch 16/100\n",
      "86/86 [==============================] - 0s 6ms/step - loss: 0.2638 - accuracy: 0.8938 - val_loss: 0.4451 - val_accuracy: 0.7619\n",
      "Epoch 17/100\n",
      "86/86 [==============================] - 0s 6ms/step - loss: 0.2466 - accuracy: 0.8973 - val_loss: 0.3870 - val_accuracy: 0.8095\n",
      "Epoch 18/100\n",
      "86/86 [==============================] - 0s 6ms/step - loss: 0.2476 - accuracy: 0.8987 - val_loss: 0.4403 - val_accuracy: 0.8254\n",
      "Epoch 19/100\n",
      "86/86 [==============================] - 0s 6ms/step - loss: 0.2347 - accuracy: 0.9092 - val_loss: 0.4420 - val_accuracy: 0.8016\n",
      "Epoch 20/100\n",
      "86/86 [==============================] - 0s 6ms/step - loss: 0.2282 - accuracy: 0.9078 - val_loss: 0.4334 - val_accuracy: 0.8095\n",
      "Epoch 21/100\n",
      "86/86 [==============================] - 0s 6ms/step - loss: 0.2184 - accuracy: 0.9115 - val_loss: 0.4194 - val_accuracy: 0.8254\n",
      "Epoch 22/100\n",
      "86/86 [==============================] - 0s 6ms/step - loss: 0.2094 - accuracy: 0.9201 - val_loss: 0.4594 - val_accuracy: 0.8095\n",
      "Epoch 23/100\n",
      "86/86 [==============================] - 0s 6ms/step - loss: 0.2187 - accuracy: 0.9166 - val_loss: 0.4683 - val_accuracy: 0.8333\n",
      "Epoch 24/100\n",
      "86/86 [==============================] - 0s 6ms/step - loss: 0.1946 - accuracy: 0.9231 - val_loss: 0.4701 - val_accuracy: 0.8571\n",
      "Epoch 25/100\n",
      "86/86 [==============================] - 0s 6ms/step - loss: 0.1987 - accuracy: 0.9182 - val_loss: 0.6618 - val_accuracy: 0.8571\n",
      "Epoch 26/100\n",
      "86/86 [==============================] - 0s 6ms/step - loss: 0.2189 - accuracy: 0.9154 - val_loss: 0.4295 - val_accuracy: 0.8254\n",
      "Epoch 27/100\n",
      "86/86 [==============================] - 0s 6ms/step - loss: 0.1903 - accuracy: 0.9236 - val_loss: 0.4621 - val_accuracy: 0.8413\n",
      "Epoch 28/100\n",
      "86/86 [==============================] - 0s 6ms/step - loss: 0.1829 - accuracy: 0.9304 - val_loss: 0.4741 - val_accuracy: 0.8254\n",
      "Epoch 29/100\n",
      "86/86 [==============================] - 0s 6ms/step - loss: 0.1917 - accuracy: 0.9290 - val_loss: 0.4803 - val_accuracy: 0.7698\n",
      "Epoch 30/100\n",
      "86/86 [==============================] - 0s 6ms/step - loss: 0.2125 - accuracy: 0.9150 - val_loss: 0.4866 - val_accuracy: 0.8254\n",
      "Epoch 31/100\n",
      "86/86 [==============================] - 0s 6ms/step - loss: 0.1777 - accuracy: 0.9317 - val_loss: 0.5454 - val_accuracy: 0.8095\n",
      "Epoch 32/100\n",
      "86/86 [==============================] - 0s 6ms/step - loss: 0.1942 - accuracy: 0.9248 - val_loss: 0.4024 - val_accuracy: 0.8571\n",
      "Epoch 33/100\n",
      "86/86 [==============================] - 0s 6ms/step - loss: 0.1677 - accuracy: 0.9369 - val_loss: 0.5976 - val_accuracy: 0.8095\n",
      "Epoch 34/100\n",
      "86/86 [==============================] - 0s 6ms/step - loss: 0.1842 - accuracy: 0.9355 - val_loss: 0.4582 - val_accuracy: 0.8333\n",
      "Epoch 35/100\n",
      "86/86 [==============================] - 0s 6ms/step - loss: 0.1647 - accuracy: 0.9362 - val_loss: 0.5811 - val_accuracy: 0.8095\n",
      "Epoch 36/100\n",
      "86/86 [==============================] - 0s 6ms/step - loss: 0.1545 - accuracy: 0.9411 - val_loss: 0.5192 - val_accuracy: 0.8333\n",
      "Epoch 37/100\n",
      "86/86 [==============================] - 0s 6ms/step - loss: 0.1392 - accuracy: 0.9439 - val_loss: 0.6175 - val_accuracy: 0.8175\n",
      "Epoch 38/100\n",
      "86/86 [==============================] - 0s 6ms/step - loss: 0.1556 - accuracy: 0.9392 - val_loss: 0.4795 - val_accuracy: 0.8571\n"
     ]
    }
   ],
   "source": [
    "#\n",
    "learning_rate   = 2e-4\n",
    "BATCH_SIZE      = 50\n",
    "STEPS_PER_EPOCH = train_l.size / BATCH_SIZE\n",
    "SAVE_PERIOD     = 1\n",
    "#\n",
    "loss = tf.keras.losses.categorical_crossentropy\n",
    "# loss = tf.keras.losses.binary_crossentropy\n",
    "optimizer = tf.keras.optimizers.Adam(learning_rate=learning_rate)\n",
    "model = DQCnnNet()\n",
    "save_path = os.path.join(os.getcwd(), 'ZN_1D_imgs/')\n",
    "modelPath = os.path.join(os.getcwd(), 'ZN_1D_imgs/bestModel.h5')\n",
    "\n",
    "model.compile(loss=loss, optimizer=optimizer, metrics=['accuracy'])\n",
    "\n",
    "checkpoint = ModelCheckpoint( # set model saving checkpoints\n",
    "    modelPath, # set path to save model weights\n",
    "    monitor='val_loss', # set monitor metrics\n",
    "    verbose=1, # set training verbosity\n",
    "    save_best_only=True, # set if want to save only best weights\n",
    "    save_weights_only=False, # set if you want to save only model weights\n",
    "    mode='auto', # set if save min or max in metrics\n",
    "    save_freq= int(SAVE_PERIOD * STEPS_PER_EPOCH) # interval between checkpoints\n",
    "    )\n",
    "\n",
    "earlystopping = EarlyStopping(\n",
    "    monitor='val_loss', # set monitor metrics\n",
    "    min_delta=0.0001, # set minimum metrics delta\n",
    "    patience=25, # number of epochs to stop training\n",
    "    restore_best_weights=True, # set if use best weights or last weights\n",
    "    )\n",
    "callbacksList = [checkpoint, earlystopping] # build callbacks list\n",
    "#%%\n",
    "hist = model.fit(train_f, train_l, epochs=100, batch_size=BATCH_SIZE,\n",
    "                validation_data=(valid_f, valid_l), callbacks=callbacksList) \n",
    "\n",
    "with open(os.path.join(save_path, \"hist.pkl\"), \"wb\") as file:\n",
    "    pickle.dump(hist.history, file)\n",
    "\n",
    "model.save(save_path)"
   ]
  },
  {
   "cell_type": "code",
   "execution_count": 54,
   "id": "7255a10d-4786-4405-b947-441cd607de31",
   "metadata": {},
   "outputs": [
    {
     "data": {
      "text/plain": [
       "77"
      ]
     },
     "execution_count": 54,
     "metadata": {},
     "output_type": "execute_result"
    }
   ],
   "source": [
    "len(train2)"
   ]
  },
  {
   "cell_type": "code",
   "execution_count": null,
   "id": "45e92b84-b235-4072-a07b-bf56e7e1d9bd",
   "metadata": {},
   "outputs": [],
   "source": []
  },
  {
   "cell_type": "code",
   "execution_count": 55,
   "id": "59d716a4-62a7-4238-b938-44632eb093aa",
   "metadata": {},
   "outputs": [
    {
     "data": {
      "text/plain": [
       "(array([0., 1.]), array([ 22, 104]))"
      ]
     },
     "execution_count": 55,
     "metadata": {},
     "output_type": "execute_result"
    }
   ],
   "source": [
    "np.unique(valid_l[:,0],return_counts=True)"
   ]
  },
  {
   "cell_type": "code",
   "execution_count": 56,
   "id": "b092cae2-199c-47a9-a9bf-3431867d8fd4",
   "metadata": {},
   "outputs": [],
   "source": [
    "# path = \"YOUR MODEL PATH\"\n",
    "# model = tf.keras.models.load_model(path, custom_objects={\"CustomModel\": DQCnnNet})\n",
    "# input_shape = (None, 640, 2)\n",
    "# model.build(input_shape)"
   ]
  },
  {
   "cell_type": "code",
   "execution_count": 57,
   "id": "9c5c955c-8afd-4f78-a1f0-365dc0c2bc18",
   "metadata": {},
   "outputs": [],
   "source": [
    "model.save(save_path)"
   ]
  },
  {
   "cell_type": "code",
   "execution_count": 58,
   "id": "7a740831-8202-43de-ab95-b68bb0d4a3dc",
   "metadata": {},
   "outputs": [],
   "source": [
    "del model"
   ]
  },
  {
   "cell_type": "code",
   "execution_count": 59,
   "id": "954b7350-acd6-4be8-a9f9-f526afc723bf",
   "metadata": {},
   "outputs": [],
   "source": [
    "model = tf.keras.models.load_model(save_path, custom_objects={\"CustomModel\": DQCnnNet})"
   ]
  },
  {
   "cell_type": "code",
   "execution_count": 60,
   "id": "6ee218bf-6098-4f74-93f5-ff26f6b88d81",
   "metadata": {},
   "outputs": [
    {
     "name": "stdout",
     "output_type": "stream",
     "text": [
      "2/2 [==============================] - 0s 5ms/step - loss: 0.5866 - accuracy: 0.7937\n",
      "\n",
      "Accuracy: 0.7936508059501648\n",
      "\n",
      "Loss:  0.5865824818611145\n"
     ]
    }
   ],
   "source": [
    "testLoss, testAcc = model.evaluate(test_f, test_l)\n",
    "print('\\nAccuracy:', testAcc)\n",
    "print('\\nLoss: ', testLoss)"
   ]
  },
  {
   "cell_type": "code",
   "execution_count": 67,
   "id": "3003a0da-33e1-494a-a02c-dcb513d1cba6",
   "metadata": {},
   "outputs": [
    {
     "name": "stdout",
     "output_type": "stream",
     "text": [
      "2/2 [==============================] - 0s 3ms/step\n"
     ]
    }
   ],
   "source": [
    "from sklearn.metrics import classification_report, confusion_matrix\n",
    "ypredt= model.predict(test_f)"
   ]
  },
  {
   "cell_type": "code",
   "execution_count": 68,
   "id": "ed0e3ae9-ca3b-4074-9de2-e32c45b0e134",
   "metadata": {},
   "outputs": [
    {
     "data": {
      "text/plain": [
       "array([[9.83520448e-01, 1.64795872e-02, 1.00000000e+00, 0.00000000e+00],\n",
       "       [9.99999523e-01, 4.28680380e-07, 1.00000000e+00, 0.00000000e+00],\n",
       "       [9.91097569e-01, 8.90241750e-03, 1.00000000e+00, 0.00000000e+00],\n",
       "       [8.91398311e-01, 1.08601682e-01, 1.00000000e+00, 0.00000000e+00],\n",
       "       [9.99630451e-01, 3.69580666e-04, 1.00000000e+00, 0.00000000e+00],\n",
       "       [7.95970023e-01, 2.04029992e-01, 1.00000000e+00, 0.00000000e+00],\n",
       "       [9.99961972e-01, 3.80547026e-05, 1.00000000e+00, 0.00000000e+00],\n",
       "       [1.83391094e-01, 8.16608846e-01, 1.00000000e+00, 0.00000000e+00],\n",
       "       [9.30745780e-01, 6.92541674e-02, 1.00000000e+00, 0.00000000e+00],\n",
       "       [9.98050213e-01, 1.94980484e-03, 1.00000000e+00, 0.00000000e+00],\n",
       "       [7.87257910e-01, 2.12742090e-01, 1.00000000e+00, 0.00000000e+00],\n",
       "       [3.09347481e-01, 6.90652490e-01, 1.00000000e+00, 0.00000000e+00],\n",
       "       [4.59104270e-01, 5.40895700e-01, 1.00000000e+00, 0.00000000e+00],\n",
       "       [9.05272663e-01, 9.47273597e-02, 1.00000000e+00, 0.00000000e+00],\n",
       "       [3.44052660e-06, 9.99996543e-01, 1.00000000e+00, 0.00000000e+00],\n",
       "       [9.65731919e-01, 3.42680626e-02, 1.00000000e+00, 0.00000000e+00],\n",
       "       [4.63422596e-01, 5.36577463e-01, 1.00000000e+00, 0.00000000e+00],\n",
       "       [9.53354359e-01, 4.66456413e-02, 1.00000000e+00, 0.00000000e+00],\n",
       "       [1.04363427e-01, 8.95636559e-01, 1.00000000e+00, 0.00000000e+00],\n",
       "       [3.77726853e-01, 6.22273147e-01, 1.00000000e+00, 0.00000000e+00],\n",
       "       [9.59000766e-01, 4.09991965e-02, 1.00000000e+00, 0.00000000e+00],\n",
       "       [9.06520903e-01, 9.34790894e-02, 1.00000000e+00, 0.00000000e+00],\n",
       "       [9.83990073e-01, 1.60099510e-02, 1.00000000e+00, 0.00000000e+00],\n",
       "       [9.91864622e-01, 8.13528989e-03, 1.00000000e+00, 0.00000000e+00],\n",
       "       [5.93003213e-01, 4.06996816e-01, 1.00000000e+00, 0.00000000e+00],\n",
       "       [3.40754747e-01, 6.59245193e-01, 1.00000000e+00, 0.00000000e+00],\n",
       "       [9.49414074e-01, 5.05859628e-02, 1.00000000e+00, 0.00000000e+00],\n",
       "       [9.74735200e-01, 2.52648331e-02, 1.00000000e+00, 0.00000000e+00],\n",
       "       [9.12750304e-01, 8.72497037e-02, 1.00000000e+00, 0.00000000e+00],\n",
       "       [9.70924854e-01, 2.90752146e-02, 1.00000000e+00, 0.00000000e+00],\n",
       "       [8.93502891e-01, 1.06497146e-01, 1.00000000e+00, 0.00000000e+00],\n",
       "       [9.89611864e-01, 1.03881573e-02, 1.00000000e+00, 0.00000000e+00],\n",
       "       [8.29305351e-01, 1.70694590e-01, 1.00000000e+00, 0.00000000e+00],\n",
       "       [9.79523838e-01, 2.04761289e-02, 1.00000000e+00, 0.00000000e+00],\n",
       "       [9.95284617e-01, 4.71540960e-03, 1.00000000e+00, 0.00000000e+00],\n",
       "       [9.83303249e-01, 1.66968275e-02, 1.00000000e+00, 0.00000000e+00],\n",
       "       [9.20857966e-01, 7.91420490e-02, 1.00000000e+00, 0.00000000e+00],\n",
       "       [7.67359912e-01, 2.32640088e-01, 1.00000000e+00, 0.00000000e+00],\n",
       "       [3.51993918e-01, 6.48006022e-01, 1.00000000e+00, 0.00000000e+00],\n",
       "       [8.52987409e-01, 1.47012621e-01, 1.00000000e+00, 0.00000000e+00],\n",
       "       [9.99409080e-01, 5.90967771e-04, 1.00000000e+00, 0.00000000e+00],\n",
       "       [9.60836172e-01, 3.91638055e-02, 1.00000000e+00, 0.00000000e+00],\n",
       "       [9.72670615e-01, 2.73293648e-02, 1.00000000e+00, 0.00000000e+00],\n",
       "       [9.92779076e-01, 7.22095463e-03, 1.00000000e+00, 0.00000000e+00],\n",
       "       [7.32034028e-01, 2.67965943e-01, 1.00000000e+00, 0.00000000e+00],\n",
       "       [9.88708258e-01, 1.12917358e-02, 1.00000000e+00, 0.00000000e+00],\n",
       "       [8.97225201e-01, 1.02774806e-01, 1.00000000e+00, 0.00000000e+00],\n",
       "       [8.16745937e-01, 1.83254018e-01, 1.00000000e+00, 0.00000000e+00],\n",
       "       [3.99848759e-01, 6.00151241e-01, 1.00000000e+00, 0.00000000e+00],\n",
       "       [2.02067479e-01, 7.97932506e-01, 1.00000000e+00, 0.00000000e+00],\n",
       "       [7.37710357e-01, 2.62289643e-01, 1.00000000e+00, 0.00000000e+00],\n",
       "       [9.99514461e-01, 4.85569442e-04, 1.00000000e+00, 0.00000000e+00],\n",
       "       [6.61272109e-01, 3.38727862e-01, 0.00000000e+00, 1.00000000e+00],\n",
       "       [4.65563357e-01, 5.34436703e-01, 0.00000000e+00, 1.00000000e+00],\n",
       "       [3.43045086e-01, 6.56954885e-01, 0.00000000e+00, 1.00000000e+00],\n",
       "       [3.60226393e-01, 6.39773607e-01, 0.00000000e+00, 1.00000000e+00],\n",
       "       [3.85663271e-01, 6.14336729e-01, 0.00000000e+00, 1.00000000e+00],\n",
       "       [4.13822204e-01, 5.86177766e-01, 0.00000000e+00, 1.00000000e+00],\n",
       "       [4.50198799e-01, 5.49801171e-01, 0.00000000e+00, 1.00000000e+00],\n",
       "       [3.38537872e-01, 6.61462069e-01, 0.00000000e+00, 1.00000000e+00],\n",
       "       [9.58144546e-01, 4.18554470e-02, 0.00000000e+00, 1.00000000e+00],\n",
       "       [3.49401116e-01, 6.50598884e-01, 0.00000000e+00, 1.00000000e+00],\n",
       "       [2.23692507e-01, 7.76307523e-01, 0.00000000e+00, 1.00000000e+00]])"
      ]
     },
     "execution_count": 68,
     "metadata": {},
     "output_type": "execute_result"
    }
   ],
   "source": [
    "np.concatenate((ypredt,test_l),axis=1)"
   ]
  },
  {
   "cell_type": "code",
   "execution_count": 70,
   "id": "55f7e345-611e-4705-8670-27a5598d6608",
   "metadata": {},
   "outputs": [],
   "source": [
    "yTestClassT = np.argmax(test_l, axis=1)\n",
    "yPredClassT = np.argmax(ypredt,axis=1)"
   ]
  },
  {
   "cell_type": "code",
   "execution_count": 71,
   "id": "1eca31e2-d721-4b32-9f48-43bda76307d9",
   "metadata": {},
   "outputs": [
    {
     "name": "stdout",
     "output_type": "stream",
     "text": [
      "\n",
      " Classification report Test\n",
      "\n",
      "               precision    recall  f1-score   support\n",
      "\n",
      "          OK       0.95      0.79      0.86        52\n",
      "         NoK       0.45      0.82      0.58        11\n",
      "\n",
      "    accuracy                           0.79        63\n",
      "   macro avg       0.70      0.80      0.72        63\n",
      "weighted avg       0.87      0.79      0.81        63\n",
      "\n",
      "\n",
      " Confusion matrix Test\n",
      "\n",
      " [[41 11]\n",
      " [ 2  9]]\n"
     ]
    }
   ],
   "source": [
    "print('\\n Classification report Test\\n\\n',\n",
    "  classification_report(\n",
    "      yTestClassT,\n",
    "      yPredClassT,\n",
    "       target_names=[\"OK\", \"NoK\"]\n",
    "      )\n",
    "  )\n",
    "\n",
    "print('\\n Confusion matrix Test\\n\\n',\n",
    "  confusion_matrix(\n",
    "      yTestClassT,\n",
    "      yPredClassT,\n",
    "      )\n",
    "  )"
   ]
  },
  {
   "cell_type": "code",
   "execution_count": null,
   "id": "8ec32320-11e3-491b-b9bb-f82c162eae4c",
   "metadata": {},
   "outputs": [],
   "source": []
  },
  {
   "cell_type": "code",
   "execution_count": 61,
   "id": "dd064bb9-0a05-40c0-99fd-de7e85702c83",
   "metadata": {},
   "outputs": [
    {
     "name": "stdout",
     "output_type": "stream",
     "text": [
      "2/2 [==============================] - 0s 5ms/step - loss: 0.5959 - accuracy: 0.8333\n",
      "\n",
      "Accuracy: 0.8333333134651184\n",
      "\n",
      "Loss:  0.5959100127220154\n"
     ]
    }
   ],
   "source": [
    "testLoss, testAcc = model.evaluate(ass_f, ass_l)\n",
    "print('\\nAccuracy:', testAcc)\n",
    "print('\\nLoss: ', testLoss)"
   ]
  },
  {
   "cell_type": "code",
   "execution_count": 62,
   "id": "f9192f38-5bad-480c-ab2c-de83b3a8c33f",
   "metadata": {},
   "outputs": [
    {
     "name": "stdout",
     "output_type": "stream",
     "text": [
      "2/2 [==============================] - 0s 3ms/step\n"
     ]
    }
   ],
   "source": [
    "from sklearn.metrics import classification_report, confusion_matrix\n",
    "ypred = model.predict(ass_f)"
   ]
  },
  {
   "cell_type": "code",
   "execution_count": 63,
   "id": "fd7cb51c-4e0c-4885-913e-292ecf0f952a",
   "metadata": {},
   "outputs": [
    {
     "data": {
      "text/plain": [
       "array([[9.14371848e-01, 8.56281295e-02, 1.00000000e+00, 0.00000000e+00],\n",
       "       [9.93306935e-01, 6.69307262e-03, 1.00000000e+00, 0.00000000e+00],\n",
       "       [3.77716541e-01, 6.22283459e-01, 1.00000000e+00, 0.00000000e+00],\n",
       "       [9.99545276e-01, 4.54663124e-04, 1.00000000e+00, 0.00000000e+00],\n",
       "       [5.30799448e-01, 4.69200522e-01, 1.00000000e+00, 0.00000000e+00],\n",
       "       [9.98821914e-01, 1.17807707e-03, 1.00000000e+00, 0.00000000e+00],\n",
       "       [3.90517861e-01, 6.09482110e-01, 1.00000000e+00, 0.00000000e+00],\n",
       "       [9.02728379e-01, 9.72715840e-02, 1.00000000e+00, 0.00000000e+00],\n",
       "       [3.41671586e-01, 6.58328474e-01, 1.00000000e+00, 0.00000000e+00],\n",
       "       [9.99201715e-01, 7.98276043e-04, 1.00000000e+00, 0.00000000e+00],\n",
       "       [9.96552467e-01, 3.44757154e-03, 1.00000000e+00, 0.00000000e+00],\n",
       "       [8.92485738e-01, 1.07514322e-01, 1.00000000e+00, 0.00000000e+00],\n",
       "       [9.09464717e-01, 9.05352905e-02, 1.00000000e+00, 0.00000000e+00],\n",
       "       [3.88021410e-01, 6.11978590e-01, 1.00000000e+00, 0.00000000e+00],\n",
       "       [9.09804463e-01, 9.01955143e-02, 1.00000000e+00, 0.00000000e+00],\n",
       "       [9.88944709e-01, 1.10552246e-02, 1.00000000e+00, 0.00000000e+00],\n",
       "       [9.72567201e-01, 2.74328049e-02, 1.00000000e+00, 0.00000000e+00],\n",
       "       [9.99999166e-01, 8.02896693e-07, 1.00000000e+00, 0.00000000e+00],\n",
       "       [9.85453069e-01, 1.45469420e-02, 1.00000000e+00, 0.00000000e+00],\n",
       "       [9.98953104e-01, 1.04692625e-03, 1.00000000e+00, 0.00000000e+00],\n",
       "       [5.01039445e-01, 4.98960525e-01, 1.00000000e+00, 0.00000000e+00],\n",
       "       [7.48416185e-01, 2.51583755e-01, 1.00000000e+00, 0.00000000e+00],\n",
       "       [5.92979550e-01, 4.07020479e-01, 1.00000000e+00, 0.00000000e+00],\n",
       "       [9.98576760e-01, 1.42327626e-03, 1.00000000e+00, 0.00000000e+00],\n",
       "       [9.42313194e-01, 5.76867238e-02, 1.00000000e+00, 0.00000000e+00],\n",
       "       [6.43642664e-01, 3.56357306e-01, 1.00000000e+00, 0.00000000e+00],\n",
       "       [8.84949148e-01, 1.15050830e-01, 1.00000000e+00, 0.00000000e+00],\n",
       "       [9.56286013e-01, 4.37140092e-02, 1.00000000e+00, 0.00000000e+00],\n",
       "       [4.37601954e-01, 5.62398076e-01, 1.00000000e+00, 0.00000000e+00],\n",
       "       [8.64836514e-01, 1.35163471e-01, 1.00000000e+00, 0.00000000e+00],\n",
       "       [2.58706272e-01, 7.41293788e-01, 0.00000000e+00, 1.00000000e+00],\n",
       "       [3.84911299e-01, 6.15088701e-01, 0.00000000e+00, 1.00000000e+00],\n",
       "       [9.85974014e-01, 1.40259033e-02, 0.00000000e+00, 1.00000000e+00],\n",
       "       [9.86486197e-01, 1.35138175e-02, 0.00000000e+00, 1.00000000e+00],\n",
       "       [2.48788550e-01, 7.51211405e-01, 0.00000000e+00, 1.00000000e+00],\n",
       "       [2.79699802e-01, 7.20300257e-01, 0.00000000e+00, 1.00000000e+00],\n",
       "       [2.60786533e-01, 7.39213467e-01, 0.00000000e+00, 1.00000000e+00],\n",
       "       [3.16505969e-01, 6.83493972e-01, 0.00000000e+00, 1.00000000e+00],\n",
       "       [1.41086444e-01, 8.58913600e-01, 0.00000000e+00, 1.00000000e+00],\n",
       "       [4.44464475e-01, 5.55535495e-01, 0.00000000e+00, 1.00000000e+00],\n",
       "       [1.46445394e-01, 8.53554547e-01, 0.00000000e+00, 1.00000000e+00],\n",
       "       [3.67382348e-01, 6.32617652e-01, 0.00000000e+00, 1.00000000e+00],\n",
       "       [3.61640632e-01, 6.38359368e-01, 0.00000000e+00, 1.00000000e+00],\n",
       "       [1.48697734e-01, 8.51302266e-01, 0.00000000e+00, 1.00000000e+00],\n",
       "       [3.64275634e-01, 6.35724366e-01, 0.00000000e+00, 1.00000000e+00],\n",
       "       [6.38836026e-01, 3.61164004e-01, 0.00000000e+00, 1.00000000e+00],\n",
       "       [3.10462326e-01, 6.89537704e-01, 0.00000000e+00, 1.00000000e+00],\n",
       "       [3.85532707e-01, 6.14467323e-01, 0.00000000e+00, 1.00000000e+00],\n",
       "       [6.54808402e-01, 3.45191568e-01, 0.00000000e+00, 1.00000000e+00],\n",
       "       [1.23007804e-01, 8.76992166e-01, 0.00000000e+00, 1.00000000e+00],\n",
       "       [3.03530127e-01, 6.96469843e-01, 0.00000000e+00, 1.00000000e+00],\n",
       "       [3.66205305e-01, 6.33794725e-01, 0.00000000e+00, 1.00000000e+00],\n",
       "       [3.86445880e-01, 6.13554120e-01, 0.00000000e+00, 1.00000000e+00],\n",
       "       [3.18514615e-01, 6.81485355e-01, 0.00000000e+00, 1.00000000e+00],\n",
       "       [3.64076376e-01, 6.35923564e-01, 0.00000000e+00, 1.00000000e+00],\n",
       "       [3.98960412e-01, 6.01039529e-01, 0.00000000e+00, 1.00000000e+00],\n",
       "       [3.49833667e-01, 6.50166333e-01, 0.00000000e+00, 1.00000000e+00],\n",
       "       [9.99427736e-01, 5.72263962e-04, 0.00000000e+00, 1.00000000e+00],\n",
       "       [2.44688943e-01, 7.55311072e-01, 0.00000000e+00, 1.00000000e+00],\n",
       "       [3.98465633e-01, 6.01534307e-01, 0.00000000e+00, 1.00000000e+00]])"
      ]
     },
     "execution_count": 63,
     "metadata": {},
     "output_type": "execute_result"
    }
   ],
   "source": [
    "np.concatenate((ypred,ass_l),axis=1)"
   ]
  },
  {
   "cell_type": "code",
   "execution_count": 64,
   "id": "b904ce41-cd39-496b-adad-acedbdc3561f",
   "metadata": {},
   "outputs": [],
   "source": [
    "yTestClass = np.argmax(ass_l, axis=1)\n",
    "yPredClass = np.argmax(ypred,axis=1)"
   ]
  },
  {
   "cell_type": "code",
   "execution_count": 65,
   "id": "d59f7a7e-7b08-42f2-952f-a3be7f23ea16",
   "metadata": {},
   "outputs": [
    {
     "name": "stdout",
     "output_type": "stream",
     "text": [
      "\n",
      " Classification report \n",
      "\n",
      "               precision    recall  f1-score   support\n",
      "\n",
      "          OK       0.83      0.83      0.83        30\n",
      "         NoK       0.83      0.83      0.83        30\n",
      "\n",
      "    accuracy                           0.83        60\n",
      "   macro avg       0.83      0.83      0.83        60\n",
      "weighted avg       0.83      0.83      0.83        60\n",
      "\n",
      "\n",
      " Confusion matrix \n",
      "\n",
      " [[25  5]\n",
      " [ 5 25]]\n"
     ]
    }
   ],
   "source": [
    "print('\\n Classification report \\n\\n',\n",
    "  classification_report(\n",
    "      yTestClass,\n",
    "      yPredClass,\n",
    "       target_names=[\"OK\", \"NoK\"]\n",
    "      )\n",
    "  )\n",
    "\n",
    "print('\\n Confusion matrix \\n\\n',\n",
    "  confusion_matrix(\n",
    "      yTestClass,\n",
    "      yPredClass,\n",
    "      )\n",
    "  )"
   ]
  },
  {
   "cell_type": "code",
   "execution_count": 66,
   "id": "72d68fb5-afe5-4b4e-9a6b-3517969ad17f",
   "metadata": {},
   "outputs": [
    {
     "name": "stdout",
     "output_type": "stream",
     "text": [
      "Model: \"dq_cnn_net_2\"\n",
      "_________________________________________________________________\n",
      " Layer (type)                Output Shape              Param #   \n",
      "=================================================================\n",
      " conv1d_10 (Conv1D)          multiple                  11552     \n",
      "                                                                 \n",
      " batch_normalization_4 (Bat  multiple                  128       \n",
      " chNormalization)                                                \n",
      "                                                                 \n",
      " conv1d_11 (Conv1D)          multiple                  20512     \n",
      "                                                                 \n",
      " batch_normalization_5 (Bat  multiple                  128       \n",
      " chNormalization)                                                \n",
      "                                                                 \n",
      " spatial_dropout1d_4 (Spati  multiple                  0         \n",
      " alDropout1D)                                                    \n",
      "                                                                 \n",
      " conv1d_12 (Conv1D)          multiple                  6176      \n",
      "                                                                 \n",
      " average_pooling1d_2 (Avera  multiple                  0         \n",
      " gePooling1D)                                                    \n",
      "                                                                 \n",
      " conv1d_13 (Conv1D)          multiple                  6176      \n",
      "                                                                 \n",
      " conv1d_14 (Conv1D)          multiple                  6176      \n",
      "                                                                 \n",
      " spatial_dropout1d_5 (Spati  multiple                  0         \n",
      " alDropout1D)                                                    \n",
      "                                                                 \n",
      " flatten_2 (Flatten)         multiple                  0         \n",
      "                                                                 \n",
      " dense_8 (Dense)             multiple                  1042216   \n",
      "                                                                 \n",
      " dropout_6 (Dropout)         multiple                  0         \n",
      "                                                                 \n",
      " dense_9 (Dense)             multiple                  43956     \n",
      "                                                                 \n",
      " dropout_7 (Dropout)         multiple                  0         \n",
      "                                                                 \n",
      " dense_10 (Dense)            multiple                  11026     \n",
      "                                                                 \n",
      " dropout_8 (Dropout)         multiple                  0         \n",
      "                                                                 \n",
      " dense_11 (Dense)            multiple                  150       \n",
      "                                                                 \n",
      "=================================================================\n",
      "Total params: 1148196 (4.38 MB)\n",
      "Trainable params: 1148068 (4.38 MB)\n",
      "Non-trainable params: 128 (512.00 Byte)\n",
      "_________________________________________________________________\n"
     ]
    }
   ],
   "source": [
    "model.summary()"
   ]
  },
  {
   "cell_type": "code",
   "execution_count": null,
   "id": "c68d2d49-642e-4c2d-a2fa-038ef3fce986",
   "metadata": {},
   "outputs": [],
   "source": []
  }
 ],
 "metadata": {
  "kernelspec": {
   "display_name": "Python 3 (ipykernel)",
   "language": "python",
   "name": "python3"
  },
  "language_info": {
   "codemirror_mode": {
    "name": "ipython",
    "version": 3
   },
   "file_extension": ".py",
   "mimetype": "text/x-python",
   "name": "python",
   "nbconvert_exporter": "python",
   "pygments_lexer": "ipython3",
   "version": "3.10.12"
  }
 },
 "nbformat": 4,
 "nbformat_minor": 5
}
